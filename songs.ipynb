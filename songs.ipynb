{
 "cells": [
  {
   "cell_type": "code",
   "execution_count": 1,
   "metadata": {},
   "outputs": [],
   "source": [
    "import pandas as pd"
   ]
  },
  {
   "cell_type": "markdown",
   "metadata": {},
   "source": [
    "# Dance Monkey"
   ]
  },
  {
   "cell_type": "code",
   "execution_count": 2,
   "metadata": {},
   "outputs": [],
   "source": [
    "dm = \"They say oh my god I see the way you shine Take your hand my dear and place them both in min You know you stopped me dead when I was passing by And now I beg to see you dance just one more time Oh I see you see you see you every time And oh my I I like your style You you make me make me make me wanna cry And now I beg to see you dance just one more time So I say Dance for me dance for me dance for me oh oh oh I have never seen anybody do the things you do before They say move for me move for me move for me ay ay ay And when you are done I will make you do it all again I said oh my god I see you walking by Take my hands my dear and look me in my eyes Just like a monkey I have been dancing my whole life And you just beg to see me dance just one more time Oh I see you see you see you every time And oh my I I like your style You you make me make me make me wanna cry And now I beg to see you dance just one more time So I say Dance for me dance for me dance for me oh oh oh I have never seen anybody do the things you do before They say move for me move for me move for me ay ay ay And when you are done I will make you do it all again They say Dance for me dance for me dance for me oh oh oh oh oh oh oh I have never seen anybody do the things you do before They say move for me move for me move for me ay ay ay And when you are done I will make you do it all again Oh oh oh oh oh oh Oh Ah ah ah ah ay They say Dance for me dance for me dance for me oh oh oh I have never seen anybody do the things you do before They say move for me move for me move for me ay ay ay And when you are done I will make you do it all again They say Dance for me dance for me dance for me oh oh oh oh oh oh oh I have never seen anybody do the things you do before They say move for me move for me move for me ay ay ay And when you are done I will make you do it all again All again\""
   ]
  },
  {
   "cell_type": "code",
   "execution_count": 3,
   "metadata": {},
   "outputs": [
    {
     "data": {
      "text/plain": [
       "'they say oh my god i see the way you shine take your hand my dear and place them both in min you know you stopped me dead when i was passing by and now i beg to see you dance just one more time oh i see you see you see you every time and oh my i i like your style you you make me make me make me wanna cry and now i beg to see you dance just one more time so i say dance for me dance for me dance for me oh oh oh i have never seen anybody do the things you do before they say move for me move for me move for me ay ay ay and when you are done i will make you do it all again i said oh my god i see you walking by take my hands my dear and look me in my eyes just like a monkey i have been dancing my whole life and you just beg to see me dance just one more time oh i see you see you see you every time and oh my i i like your style you you make me make me make me wanna cry and now i beg to see you dance just one more time so i say dance for me dance for me dance for me oh oh oh i have never seen anybody do the things you do before they say move for me move for me move for me ay ay ay and when you are done i will make you do it all again they say dance for me dance for me dance for me oh oh oh oh oh oh oh i have never seen anybody do the things you do before they say move for me move for me move for me ay ay ay and when you are done i will make you do it all again oh oh oh oh oh oh oh ah ah ah ah ay they say dance for me dance for me dance for me oh oh oh i have never seen anybody do the things you do before they say move for me move for me move for me ay ay ay and when you are done i will make you do it all again they say dance for me dance for me dance for me oh oh oh oh oh oh oh i have never seen anybody do the things you do before they say move for me move for me move for me ay ay ay and when you are done i will make you do it all again all again'"
      ]
     },
     "execution_count": 3,
     "metadata": {},
     "output_type": "execute_result"
    }
   ],
   "source": [
    "dm = dm.lower()\n",
    "dm"
   ]
  },
  {
   "cell_type": "code",
   "execution_count": 4,
   "metadata": {},
   "outputs": [
    {
     "name": "stdout",
     "output_type": "stream",
     "text": [
      "['they', 'say', 'oh', 'my', 'god', 'i', 'see', 'the', 'way', 'you', 'shine', 'take', 'your', 'hand', 'my', 'dear', 'and', 'place', 'them', 'both', 'in', 'min', 'you', 'know', 'you', 'stopped', 'me', 'dead', 'when', 'i', 'was', 'passing', 'by', 'and', 'now', 'i', 'beg', 'to', 'see', 'you', 'dance', 'just', 'one', 'more', 'time', 'oh', 'i', 'see', 'you', 'see', 'you', 'see', 'you', 'every', 'time', 'and', 'oh', 'my', 'i', 'i', 'like', 'your', 'style', 'you', 'you', 'make', 'me', 'make', 'me', 'make', 'me', 'wanna', 'cry', 'and', 'now', 'i', 'beg', 'to', 'see', 'you', 'dance', 'just', 'one', 'more', 'time', 'so', 'i', 'say', 'dance', 'for', 'me', 'dance', 'for', 'me', 'dance', 'for', 'me', 'oh', 'oh', 'oh', 'i', 'have', 'never', 'seen', 'anybody', 'do', 'the', 'things', 'you', 'do', 'before', 'they', 'say', 'move', 'for', 'me', 'move', 'for', 'me', 'move', 'for', 'me', 'ay', 'ay', 'ay', 'and', 'when', 'you', 'are', 'done', 'i', 'will', 'make', 'you', 'do', 'it', 'all', 'again', 'i', 'said', 'oh', 'my', 'god', 'i', 'see', 'you', 'walking', 'by', 'take', 'my', 'hands', 'my', 'dear', 'and', 'look', 'me', 'in', 'my', 'eyes', 'just', 'like', 'a', 'monkey', 'i', 'have', 'been', 'dancing', 'my', 'whole', 'life', 'and', 'you', 'just', 'beg', 'to', 'see', 'me', 'dance', 'just', 'one', 'more', 'time', 'oh', 'i', 'see', 'you', 'see', 'you', 'see', 'you', 'every', 'time', 'and', 'oh', 'my', 'i', 'i', 'like', 'your', 'style', 'you', 'you', 'make', 'me', 'make', 'me', 'make', 'me', 'wanna', 'cry', 'and', 'now', 'i', 'beg', 'to', 'see', 'you', 'dance', 'just', 'one', 'more', 'time', 'so', 'i', 'say', 'dance', 'for', 'me', 'dance', 'for', 'me', 'dance', 'for', 'me', 'oh', 'oh', 'oh', 'i', 'have', 'never', 'seen', 'anybody', 'do', 'the', 'things', 'you', 'do', 'before', 'they', 'say', 'move', 'for', 'me', 'move', 'for', 'me', 'move', 'for', 'me', 'ay', 'ay', 'ay', 'and', 'when', 'you', 'are', 'done', 'i', 'will', 'make', 'you', 'do', 'it', 'all', 'again', 'they', 'say', 'dance', 'for', 'me', 'dance', 'for', 'me', 'dance', 'for', 'me', 'oh', 'oh', 'oh', 'oh', 'oh', 'oh', 'oh', 'i', 'have', 'never', 'seen', 'anybody', 'do', 'the', 'things', 'you', 'do', 'before', 'they', 'say', 'move', 'for', 'me', 'move', 'for', 'me', 'move', 'for', 'me', 'ay', 'ay', 'ay', 'and', 'when', 'you', 'are', 'done', 'i', 'will', 'make', 'you', 'do', 'it', 'all', 'again', 'oh', 'oh', 'oh', 'oh', 'oh', 'oh', 'oh', 'ah', 'ah', 'ah', 'ah', 'ay', 'they', 'say', 'dance', 'for', 'me', 'dance', 'for', 'me', 'dance', 'for', 'me', 'oh', 'oh', 'oh', 'i', 'have', 'never', 'seen', 'anybody', 'do', 'the', 'things', 'you', 'do', 'before', 'they', 'say', 'move', 'for', 'me', 'move', 'for', 'me', 'move', 'for', 'me', 'ay', 'ay', 'ay', 'and', 'when', 'you', 'are', 'done', 'i', 'will', 'make', 'you', 'do', 'it', 'all', 'again', 'they', 'say', 'dance', 'for', 'me', 'dance', 'for', 'me', 'dance', 'for', 'me', 'oh', 'oh', 'oh', 'oh', 'oh', 'oh', 'oh', 'i', 'have', 'never', 'seen', 'anybody', 'do', 'the', 'things', 'you', 'do', 'before', 'they', 'say', 'move', 'for', 'me', 'move', 'for', 'me', 'move', 'for', 'me', 'ay', 'ay', 'ay', 'and', 'when', 'you', 'are', 'done', 'i', 'will', 'make', 'you', 'do', 'it', 'all', 'again', 'all', 'again']\n"
     ]
    }
   ],
   "source": [
    "split_dm = dm.split(' ')\n",
    "print(split_dm)"
   ]
  },
  {
   "cell_type": "code",
   "execution_count": 5,
   "metadata": {},
   "outputs": [
    {
     "data": {
      "text/plain": [
       "453"
      ]
     },
     "execution_count": 5,
     "metadata": {},
     "output_type": "execute_result"
    }
   ],
   "source": [
    "len(split_dm)"
   ]
  },
  {
   "cell_type": "code",
   "execution_count": 6,
   "metadata": {},
   "outputs": [
    {
     "name": "stdout",
     "output_type": "stream",
     "text": [
      "{'done', 'a', 'are', 'ay', 'ah', 'have', 'now', 'again', 'monkey', 'dancing', 'see', 'so', 'eyes', 'dear', 'was', 'take', 'to', 'god', 'never', 'stopped', 'seen', 'anybody', 'life', 'them', 'before', 'dance', 'and', 'my', 'more', 'every', 'like', 'way', 'make', 'wanna', 'will', 'it', 'whole', 'hand', 'walking', 'passing', 'place', 'been', 'do', 'dead', 'when', 'beg', 'for', 'oh', 'look', 'they', 'your', 'by', 'say', 'said', 'hands', 'the', 'all', 'shine', 'know', 'style', 'cry', 'you', 'me', 'just', 'things', 'move', 'one', 'time', 'both', 'i', 'in', 'min'}\n"
     ]
    }
   ],
   "source": [
    "unique_dm = set(split_dm)\n",
    "print(unique_dm)"
   ]
  },
  {
   "cell_type": "code",
   "execution_count": 7,
   "metadata": {},
   "outputs": [
    {
     "data": {
      "text/plain": [
       "72"
      ]
     },
     "execution_count": 7,
     "metadata": {},
     "output_type": "execute_result"
    }
   ],
   "source": [
    "len(unique_dm) #total number of unique words"
   ]
  },
  {
   "cell_type": "code",
   "execution_count": 8,
   "metadata": {},
   "outputs": [
    {
     "data": {
      "text/plain": [
       "381"
      ]
     },
     "execution_count": 8,
     "metadata": {},
     "output_type": "execute_result"
    }
   ],
   "source": [
    "len(split_dm)-len(unique_dm) #total number of words repeated"
   ]
  },
  {
   "cell_type": "code",
   "execution_count": 9,
   "metadata": {},
   "outputs": [
    {
     "name": "stdout",
     "output_type": "stream",
     "text": [
      "{'done': 0, 'a': 0, 'are': 0, 'ay': 0, 'ah': 0, 'have': 0, 'now': 0, 'again': 0, 'monkey': 0, 'dancing': 0, 'see': 0, 'so': 0, 'eyes': 0, 'dear': 0, 'was': 0, 'take': 0, 'to': 0, 'god': 0, 'never': 0, 'stopped': 0, 'seen': 0, 'anybody': 0, 'life': 0, 'them': 0, 'before': 0, 'dance': 0, 'and': 0, 'my': 0, 'more': 0, 'every': 0, 'like': 0, 'way': 0, 'make': 0, 'wanna': 0, 'will': 0, 'it': 0, 'whole': 0, 'hand': 0, 'walking': 0, 'passing': 0, 'place': 0, 'been': 0, 'do': 0, 'dead': 0, 'when': 0, 'beg': 0, 'for': 0, 'oh': 0, 'look': 0, 'they': 0, 'your': 0, 'by': 0, 'say': 0, 'said': 0, 'hands': 0, 'the': 0, 'all': 0, 'shine': 0, 'know': 0, 'style': 0, 'cry': 0, 'you': 0, 'me': 0, 'just': 0, 'things': 0, 'move': 0, 'one': 0, 'time': 0, 'both': 0, 'i': 0, 'in': 0, 'min': 0}\n"
     ]
    }
   ],
   "source": [
    "word_dm = {}\n",
    "for word in unique_dm:\n",
    "    word_dm[word] = 0\n",
    "print(word_dm)"
   ]
  },
  {
   "cell_type": "code",
   "execution_count": 10,
   "metadata": {},
   "outputs": [
    {
     "name": "stdout",
     "output_type": "stream",
     "text": [
      "{'done': 5, 'a': 1, 'are': 5, 'ay': 16, 'ah': 4, 'have': 6, 'now': 3, 'again': 6, 'monkey': 1, 'dancing': 1, 'see': 12, 'so': 2, 'eyes': 1, 'dear': 2, 'was': 1, 'take': 2, 'to': 4, 'god': 2, 'never': 5, 'stopped': 1, 'seen': 5, 'anybody': 5, 'life': 1, 'them': 1, 'before': 5, 'dance': 19, 'and': 13, 'my': 9, 'more': 4, 'every': 2, 'like': 3, 'way': 1, 'make': 11, 'wanna': 2, 'will': 5, 'it': 5, 'whole': 1, 'hand': 1, 'walking': 1, 'passing': 1, 'place': 1, 'been': 1, 'do': 15, 'dead': 1, 'when': 6, 'beg': 4, 'for': 30, 'oh': 36, 'look': 1, 'they': 9, 'your': 3, 'by': 2, 'say': 11, 'said': 1, 'hands': 1, 'the': 6, 'all': 6, 'shine': 1, 'know': 1, 'style': 2, 'cry': 2, 'you': 33, 'me': 39, 'just': 6, 'things': 5, 'move': 15, 'one': 4, 'time': 6, 'both': 1, 'i': 26, 'in': 2, 'min': 1}\n"
     ]
    }
   ],
   "source": [
    "for word in split_dm:\n",
    "    word_dm[word] = word_dm[word] + 1\n",
    "print(word_dm)"
   ]
  },
  {
   "cell_type": "code",
   "execution_count": 11,
   "metadata": {},
   "outputs": [
    {
     "name": "stdout",
     "output_type": "stream",
     "text": [
      "[('me', 39), ('oh', 36), ('you', 33), ('for', 30), ('i', 26), ('dance', 19), ('ay', 16), ('do', 15), ('move', 15), ('and', 13), ('see', 12), ('make', 11), ('say', 11), ('my', 9), ('they', 9), ('have', 6), ('again', 6), ('when', 6), ('the', 6), ('all', 6), ('just', 6), ('time', 6), ('done', 5), ('are', 5), ('never', 5), ('seen', 5), ('anybody', 5), ('before', 5), ('will', 5), ('it', 5), ('things', 5), ('ah', 4), ('to', 4), ('more', 4), ('beg', 4), ('one', 4), ('now', 3), ('like', 3), ('your', 3), ('so', 2), ('dear', 2), ('take', 2), ('god', 2), ('every', 2), ('wanna', 2), ('by', 2), ('style', 2), ('cry', 2), ('in', 2), ('a', 1), ('monkey', 1), ('dancing', 1), ('eyes', 1), ('was', 1), ('stopped', 1), ('life', 1), ('them', 1), ('way', 1), ('whole', 1), ('hand', 1), ('walking', 1), ('passing', 1), ('place', 1), ('been', 1), ('dead', 1), ('look', 1), ('said', 1), ('hands', 1), ('shine', 1), ('know', 1), ('both', 1), ('min', 1)]\n"
     ]
    }
   ],
   "source": [
    "dm_count = sorted(word_dm.items(),key = lambda t: t[1], reverse =True)\n",
    "print(dm_count)"
   ]
  },
  {
   "cell_type": "code",
   "execution_count": 12,
   "metadata": {},
   "outputs": [
    {
     "data": {
      "text/plain": [
       "[('me', 39),\n",
       " ('oh', 36),\n",
       " ('you', 33),\n",
       " ('for', 30),\n",
       " ('i', 26),\n",
       " ('dance', 19),\n",
       " ('ay', 16),\n",
       " ('do', 15),\n",
       " ('move', 15),\n",
       " ('and', 13)]"
      ]
     },
     "execution_count": 12,
     "metadata": {},
     "output_type": "execute_result"
    }
   ],
   "source": [
    "dm_top_10 = dm_count[0:10]\n",
    "dm_top_10"
   ]
  },
  {
   "cell_type": "code",
   "execution_count": 46,
   "metadata": {},
   "outputs": [
    {
     "data": {
      "text/plain": [
       "23"
      ]
     },
     "execution_count": 46,
     "metadata": {},
     "output_type": "execute_result"
    }
   ],
   "source": [
    "dm_least_used = dm_count[49:72]\n",
    "len(dm_least_used) #23"
   ]
  },
  {
   "cell_type": "markdown",
   "metadata": {},
   "source": [
    "# Never Seen The Rain"
   ]
  },
  {
   "cell_type": "code",
   "execution_count": 13,
   "metadata": {},
   "outputs": [],
   "source": [
    "nstr = \"All your life no You could not be mad about it You have been setting setting oh You could not be sad about it And it is been all this time And you have not lived without it You are shining shining it seems though That your life you have found it No oh oh oh But you have never No you have never seen the rain No oh oh oh but you have never no you have never Seen the rain And it gets you down But that is ok You have been pushed around You feel the pain And when you fall Just lean on me Cause you have never known Never seen never smelt never felt The rain Rain never felt the rain rain rain It is a cold dark night and No ones trying find ya You are just coasting coasting by Cause nothing seems to mind ya No oh oh oh But you have never No you have never seen the rain No oh oh oh but you have never no you have never Seen the rain And it gets you down But that is ok You have been pushed around You feel the pain And when you fall Just lean on me Cause you have never known Never seen never smelt never felt The rain Rain never felt the rain rain rain And it gets you down But that is ok You have been pushed around You feel the pain And when you fall Just lean on me Cause you have never known Never seen Never smelt Never felt The rain Rain never felt the rain rain rain\""
   ]
  },
  {
   "cell_type": "code",
   "execution_count": 14,
   "metadata": {},
   "outputs": [],
   "source": [
    "nstr = nstr.lower()"
   ]
  },
  {
   "cell_type": "code",
   "execution_count": 15,
   "metadata": {},
   "outputs": [
    {
     "name": "stdout",
     "output_type": "stream",
     "text": [
      "['all', 'your', 'life', 'no', 'you', 'could', 'not', 'be', 'mad', 'about', 'it', 'you', 'have', 'been', 'setting', 'setting', 'oh', 'you', 'could', 'not', 'be', 'sad', 'about', 'it', 'and', 'it', 'is', 'been', 'all', 'this', 'time', 'and', 'you', 'have', 'not', 'lived', 'without', 'it', 'you', 'are', 'shining', 'shining', 'it', 'seems', 'though', 'that', 'your', 'life', 'you', 'have', 'found', 'it', 'no', 'oh', 'oh', 'oh', 'but', 'you', 'have', 'never', 'no', 'you', 'have', 'never', 'seen', 'the', 'rain', 'no', 'oh', 'oh', 'oh', 'but', 'you', 'have', 'never', 'no', 'you', 'have', 'never', 'seen', 'the', 'rain', 'and', 'it', 'gets', 'you', 'down', 'but', 'that', 'is', 'ok', 'you', 'have', 'been', 'pushed', 'around', 'you', 'feel', 'the', 'pain', 'and', 'when', 'you', 'fall', 'just', 'lean', 'on', 'me', 'cause', 'you', 'have', 'never', 'known', 'never', 'seen', 'never', 'smelt', 'never', 'felt', 'the', 'rain', 'rain', 'never', 'felt', 'the', 'rain', 'rain', 'rain', 'it', 'is', 'a', 'cold', 'dark', 'night', 'and', 'no', 'ones', 'trying', 'find', 'ya', 'you', 'are', 'just', 'coasting', 'coasting', 'by', 'cause', 'nothing', 'seems', 'to', 'mind', 'ya', 'no', 'oh', 'oh', 'oh', 'but', 'you', 'have', 'never', 'no', 'you', 'have', 'never', 'seen', 'the', 'rain', 'no', 'oh', 'oh', 'oh', 'but', 'you', 'have', 'never', 'no', 'you', 'have', 'never', 'seen', 'the', 'rain', 'and', 'it', 'gets', 'you', 'down', 'but', 'that', 'is', 'ok', 'you', 'have', 'been', 'pushed', 'around', 'you', 'feel', 'the', 'pain', 'and', 'when', 'you', 'fall', 'just', 'lean', 'on', 'me', 'cause', 'you', 'have', 'never', 'known', 'never', 'seen', 'never', 'smelt', 'never', 'felt', 'the', 'rain', 'rain', 'never', 'felt', 'the', 'rain', 'rain', 'rain', 'and', 'it', 'gets', 'you', 'down', 'but', 'that', 'is', 'ok', 'you', 'have', 'been', 'pushed', 'around', 'you', 'feel', 'the', 'pain', 'and', 'when', 'you', 'fall', 'just', 'lean', 'on', 'me', 'cause', 'you', 'have', 'never', 'known', 'never', 'seen', 'never', 'smelt', 'never', 'felt', 'the', 'rain', 'rain', 'never', 'felt', 'the', 'rain', 'rain', 'rain']\n"
     ]
    }
   ],
   "source": [
    "split_nstr = nstr.split(' ')\n",
    "print(split_nstr)"
   ]
  },
  {
   "cell_type": "code",
   "execution_count": 16,
   "metadata": {},
   "outputs": [
    {
     "data": {
      "text/plain": [
       "274"
      ]
     },
     "execution_count": 16,
     "metadata": {},
     "output_type": "execute_result"
    }
   ],
   "source": [
    "len(split_nstr)"
   ]
  },
  {
   "cell_type": "code",
   "execution_count": 17,
   "metadata": {},
   "outputs": [
    {
     "name": "stdout",
     "output_type": "stream",
     "text": [
      "{'be', 'a', 'are', 'sad', 'have', 'without', 'cold', 'that', 'trying', 'fall', 'is', 'coasting', 'life', 'never', 'rain', 'to', 'seen', 'find', 'no', 'seems', 'found', 'gets', 'setting', 'night', 'dark', 'ya', 'nothing', 'down', 'around', 'and', 'it', 'lean', 'about', 'not', 'been', 'when', 'mad', 'oh', 'could', 'mind', 'your', 'ok', 'pain', 'felt', 'by', 'smelt', 'feel', 'the', 'all', 'this', 'ones', 'though', 'cause', 'you', 'just', 'lived', 'me', 'pushed', 'time', 'shining', 'on', 'known', 'but'}\n"
     ]
    }
   ],
   "source": [
    "unique_nstr = set(split_nstr)\n",
    "print(unique_nstr)"
   ]
  },
  {
   "cell_type": "code",
   "execution_count": 18,
   "metadata": {},
   "outputs": [
    {
     "data": {
      "text/plain": [
       "63"
      ]
     },
     "execution_count": 18,
     "metadata": {},
     "output_type": "execute_result"
    }
   ],
   "source": [
    "unique_length_nstr = len(unique_nstr) #total number of unique words\n",
    "unique_length_nstr"
   ]
  },
  {
   "cell_type": "code",
   "execution_count": 19,
   "metadata": {},
   "outputs": [
    {
     "data": {
      "text/plain": [
       "211"
      ]
     },
     "execution_count": 19,
     "metadata": {},
     "output_type": "execute_result"
    }
   ],
   "source": [
    "repeated_nstr = len(split_nstr) - len(unique_nstr) #total number of words repeated\n",
    "repeated_nstr"
   ]
  },
  {
   "cell_type": "code",
   "execution_count": 20,
   "metadata": {},
   "outputs": [
    {
     "name": "stdout",
     "output_type": "stream",
     "text": [
      "{'be': 0, 'a': 0, 'are': 0, 'sad': 0, 'have': 0, 'without': 0, 'cold': 0, 'that': 0, 'trying': 0, 'fall': 0, 'is': 0, 'coasting': 0, 'life': 0, 'never': 0, 'rain': 0, 'to': 0, 'seen': 0, 'find': 0, 'no': 0, 'seems': 0, 'found': 0, 'gets': 0, 'setting': 0, 'night': 0, 'dark': 0, 'ya': 0, 'nothing': 0, 'down': 0, 'around': 0, 'and': 0, 'it': 0, 'lean': 0, 'about': 0, 'not': 0, 'been': 0, 'when': 0, 'mad': 0, 'oh': 0, 'could': 0, 'mind': 0, 'your': 0, 'ok': 0, 'pain': 0, 'felt': 0, 'by': 0, 'smelt': 0, 'feel': 0, 'the': 0, 'all': 0, 'this': 0, 'ones': 0, 'though': 0, 'cause': 0, 'you': 0, 'just': 0, 'lived': 0, 'me': 0, 'pushed': 0, 'time': 0, 'shining': 0, 'on': 0, 'known': 0, 'but': 0}\n"
     ]
    }
   ],
   "source": [
    "word_nstr = {}\n",
    "for word in unique_nstr:\n",
    "    word_nstr[word] = 0\n",
    "print(word_nstr)"
   ]
  },
  {
   "cell_type": "code",
   "execution_count": 21,
   "metadata": {},
   "outputs": [
    {
     "name": "stdout",
     "output_type": "stream",
     "text": [
      "{'be': 2, 'a': 1, 'are': 2, 'sad': 1, 'have': 17, 'without': 1, 'cold': 1, 'that': 4, 'trying': 1, 'fall': 3, 'is': 5, 'coasting': 2, 'life': 2, 'never': 23, 'rain': 19, 'to': 1, 'seen': 7, 'find': 1, 'no': 10, 'seems': 2, 'found': 1, 'gets': 3, 'setting': 2, 'night': 1, 'dark': 1, 'ya': 2, 'nothing': 1, 'down': 3, 'around': 3, 'and': 9, 'it': 10, 'lean': 3, 'about': 2, 'not': 3, 'been': 5, 'when': 3, 'mad': 1, 'oh': 13, 'could': 2, 'mind': 1, 'your': 2, 'ok': 3, 'pain': 3, 'felt': 6, 'by': 1, 'smelt': 3, 'feel': 3, 'the': 13, 'all': 2, 'this': 1, 'ones': 1, 'though': 1, 'cause': 4, 'you': 30, 'just': 4, 'lived': 1, 'me': 3, 'pushed': 3, 'time': 1, 'shining': 2, 'on': 3, 'known': 3, 'but': 7}\n"
     ]
    }
   ],
   "source": [
    "for word in split_nstr:\n",
    "    word_nstr[word] = word_nstr[word] + 1\n",
    "print(word_nstr)"
   ]
  },
  {
   "cell_type": "code",
   "execution_count": 22,
   "metadata": {},
   "outputs": [
    {
     "name": "stdout",
     "output_type": "stream",
     "text": [
      "[('you', 30), ('never', 23), ('rain', 19), ('have', 17), ('oh', 13), ('the', 13), ('no', 10), ('it', 10), ('and', 9), ('seen', 7), ('but', 7), ('felt', 6), ('is', 5), ('been', 5), ('that', 4), ('cause', 4), ('just', 4), ('fall', 3), ('gets', 3), ('down', 3), ('around', 3), ('lean', 3), ('not', 3), ('when', 3), ('ok', 3), ('pain', 3), ('smelt', 3), ('feel', 3), ('me', 3), ('pushed', 3), ('on', 3), ('known', 3), ('be', 2), ('are', 2), ('coasting', 2), ('life', 2), ('seems', 2), ('setting', 2), ('ya', 2), ('about', 2), ('could', 2), ('your', 2), ('all', 2), ('shining', 2), ('a', 1), ('sad', 1), ('without', 1), ('cold', 1), ('trying', 1), ('to', 1), ('find', 1), ('found', 1), ('night', 1), ('dark', 1), ('nothing', 1), ('mad', 1), ('mind', 1), ('by', 1), ('this', 1), ('ones', 1), ('though', 1), ('lived', 1), ('time', 1)]\n"
     ]
    }
   ],
   "source": [
    "nstr_count = sorted(word_nstr.items(),key = lambda t: t[1], reverse =True)\n",
    "print(nstr_count)"
   ]
  },
  {
   "cell_type": "code",
   "execution_count": 23,
   "metadata": {},
   "outputs": [
    {
     "data": {
      "text/plain": [
       "[('you', 30),\n",
       " ('never', 23),\n",
       " ('rain', 19),\n",
       " ('have', 17),\n",
       " ('oh', 13),\n",
       " ('the', 13),\n",
       " ('no', 10),\n",
       " ('it', 10),\n",
       " ('and', 9),\n",
       " ('seen', 7)]"
      ]
     },
     "execution_count": 23,
     "metadata": {},
     "output_type": "execute_result"
    }
   ],
   "source": [
    "nstr_top_10 = nstr_count[0:10]\n",
    "nstr_top_10"
   ]
  },
  {
   "cell_type": "code",
   "execution_count": 45,
   "metadata": {},
   "outputs": [
    {
     "data": {
      "text/plain": [
       "19"
      ]
     },
     "execution_count": 45,
     "metadata": {},
     "output_type": "execute_result"
    }
   ],
   "source": [
    "nstr_least_used = nstr_count[44:63]\n",
    "len(nstr_least_used) #19"
   ]
  },
  {
   "cell_type": "markdown",
   "metadata": {},
   "source": [
    "# Comparing the two songs"
   ]
  },
  {
   "cell_type": "code",
   "execution_count": 37,
   "metadata": {},
   "outputs": [],
   "source": [
    "import pandas as pd\n",
    "import plotly.graph_objects as go\n",
    "from tabulate import tabulate"
   ]
  },
  {
   "cell_type": "code",
   "execution_count": 47,
   "metadata": {},
   "outputs": [],
   "source": [
    "table = pd.read_csv('song_values.csv')"
   ]
  },
  {
   "cell_type": "code",
   "execution_count": 48,
   "metadata": {},
   "outputs": [
    {
     "data": {
      "text/html": [
       "<div>\n",
       "<style scoped>\n",
       "    .dataframe tbody tr th:only-of-type {\n",
       "        vertical-align: middle;\n",
       "    }\n",
       "\n",
       "    .dataframe tbody tr th {\n",
       "        vertical-align: top;\n",
       "    }\n",
       "\n",
       "    .dataframe thead th {\n",
       "        text-align: right;\n",
       "    }\n",
       "</style>\n",
       "<table border=\"1\" class=\"dataframe\">\n",
       "  <thead>\n",
       "    <tr style=\"text-align: right;\">\n",
       "      <th></th>\n",
       "      <th>Name</th>\n",
       "      <th>words_in_song</th>\n",
       "      <th>words_in_lyrics</th>\n",
       "      <th>Words_used_once</th>\n",
       "      <th>Words_used_more_than_once</th>\n",
       "      <th>Number_of_times_words_repeated</th>\n",
       "    </tr>\n",
       "  </thead>\n",
       "  <tbody>\n",
       "    <tr>\n",
       "      <th>0</th>\n",
       "      <td>Dance Monkey</td>\n",
       "      <td>453</td>\n",
       "      <td>72</td>\n",
       "      <td>23</td>\n",
       "      <td>49</td>\n",
       "      <td>430</td>\n",
       "    </tr>\n",
       "    <tr>\n",
       "      <th>1</th>\n",
       "      <td>Never Seen The Rain</td>\n",
       "      <td>274</td>\n",
       "      <td>63</td>\n",
       "      <td>19</td>\n",
       "      <td>44</td>\n",
       "      <td>255</td>\n",
       "    </tr>\n",
       "  </tbody>\n",
       "</table>\n",
       "</div>"
      ],
      "text/plain": [
       "                  Name  words_in_song  words_in_lyrics  Words_used_once  \\\n",
       "0         Dance Monkey            453               72               23   \n",
       "1  Never Seen The Rain            274               63               19   \n",
       "\n",
       "   Words_used_more_than_once  Number_of_times_words_repeated  \n",
       "0                         49                             430  \n",
       "1                         44                             255  "
      ]
     },
     "execution_count": 48,
     "metadata": {},
     "output_type": "execute_result"
    }
   ],
   "source": [
    "table"
   ]
  },
  {
   "cell_type": "code",
   "execution_count": null,
   "metadata": {},
   "outputs": [],
   "source": []
  },
  {
   "cell_type": "code",
   "execution_count": 50,
   "metadata": {},
   "outputs": [
    {
     "data": {
      "application/vnd.plotly.v1+json": {
       "config": {
        "plotlyServerURL": "https://plot.ly"
       },
       "data": [
        {
         "name": "Total number of words in song",
         "type": "bar",
         "x": [
          "Dance Monkey",
          "Never Seen The Rain"
         ],
         "y": [
          453,
          274
         ]
        },
        {
         "name": "Total Number of Repeated Words",
         "type": "bar",
         "x": [
          "Dance Monkey",
          "Never Seen The Rain"
         ],
         "y": [
          430,
          255
         ]
        },
        {
         "name": "Number of words used in Lyric",
         "type": "bar",
         "x": [
          "Dance Monkey",
          "Never Seen The Rain"
         ],
         "y": [
          72,
          63
         ]
        },
        {
         "name": "Words used once",
         "type": "bar",
         "x": [
          "Dance Monkey",
          "Never Seen The Rain"
         ],
         "y": [
          23,
          19
         ]
        },
        {
         "name": "Words used more than once",
         "type": "bar",
         "x": [
          "Dance Monkey",
          "Never Seen The Rain"
         ],
         "y": [
          49,
          44
         ]
        }
       ],
       "layout": {
        "barmode": "group",
        "template": {
         "data": {
          "bar": [
           {
            "error_x": {
             "color": "#2a3f5f"
            },
            "error_y": {
             "color": "#2a3f5f"
            },
            "marker": {
             "line": {
              "color": "#E5ECF6",
              "width": 0.5
             }
            },
            "type": "bar"
           }
          ],
          "barpolar": [
           {
            "marker": {
             "line": {
              "color": "#E5ECF6",
              "width": 0.5
             }
            },
            "type": "barpolar"
           }
          ],
          "carpet": [
           {
            "aaxis": {
             "endlinecolor": "#2a3f5f",
             "gridcolor": "white",
             "linecolor": "white",
             "minorgridcolor": "white",
             "startlinecolor": "#2a3f5f"
            },
            "baxis": {
             "endlinecolor": "#2a3f5f",
             "gridcolor": "white",
             "linecolor": "white",
             "minorgridcolor": "white",
             "startlinecolor": "#2a3f5f"
            },
            "type": "carpet"
           }
          ],
          "choropleth": [
           {
            "colorbar": {
             "outlinewidth": 0,
             "ticks": ""
            },
            "type": "choropleth"
           }
          ],
          "contour": [
           {
            "colorbar": {
             "outlinewidth": 0,
             "ticks": ""
            },
            "colorscale": [
             [
              0,
              "#0d0887"
             ],
             [
              0.1111111111111111,
              "#46039f"
             ],
             [
              0.2222222222222222,
              "#7201a8"
             ],
             [
              0.3333333333333333,
              "#9c179e"
             ],
             [
              0.4444444444444444,
              "#bd3786"
             ],
             [
              0.5555555555555556,
              "#d8576b"
             ],
             [
              0.6666666666666666,
              "#ed7953"
             ],
             [
              0.7777777777777778,
              "#fb9f3a"
             ],
             [
              0.8888888888888888,
              "#fdca26"
             ],
             [
              1,
              "#f0f921"
             ]
            ],
            "type": "contour"
           }
          ],
          "contourcarpet": [
           {
            "colorbar": {
             "outlinewidth": 0,
             "ticks": ""
            },
            "type": "contourcarpet"
           }
          ],
          "heatmap": [
           {
            "colorbar": {
             "outlinewidth": 0,
             "ticks": ""
            },
            "colorscale": [
             [
              0,
              "#0d0887"
             ],
             [
              0.1111111111111111,
              "#46039f"
             ],
             [
              0.2222222222222222,
              "#7201a8"
             ],
             [
              0.3333333333333333,
              "#9c179e"
             ],
             [
              0.4444444444444444,
              "#bd3786"
             ],
             [
              0.5555555555555556,
              "#d8576b"
             ],
             [
              0.6666666666666666,
              "#ed7953"
             ],
             [
              0.7777777777777778,
              "#fb9f3a"
             ],
             [
              0.8888888888888888,
              "#fdca26"
             ],
             [
              1,
              "#f0f921"
             ]
            ],
            "type": "heatmap"
           }
          ],
          "heatmapgl": [
           {
            "colorbar": {
             "outlinewidth": 0,
             "ticks": ""
            },
            "colorscale": [
             [
              0,
              "#0d0887"
             ],
             [
              0.1111111111111111,
              "#46039f"
             ],
             [
              0.2222222222222222,
              "#7201a8"
             ],
             [
              0.3333333333333333,
              "#9c179e"
             ],
             [
              0.4444444444444444,
              "#bd3786"
             ],
             [
              0.5555555555555556,
              "#d8576b"
             ],
             [
              0.6666666666666666,
              "#ed7953"
             ],
             [
              0.7777777777777778,
              "#fb9f3a"
             ],
             [
              0.8888888888888888,
              "#fdca26"
             ],
             [
              1,
              "#f0f921"
             ]
            ],
            "type": "heatmapgl"
           }
          ],
          "histogram": [
           {
            "marker": {
             "colorbar": {
              "outlinewidth": 0,
              "ticks": ""
             }
            },
            "type": "histogram"
           }
          ],
          "histogram2d": [
           {
            "colorbar": {
             "outlinewidth": 0,
             "ticks": ""
            },
            "colorscale": [
             [
              0,
              "#0d0887"
             ],
             [
              0.1111111111111111,
              "#46039f"
             ],
             [
              0.2222222222222222,
              "#7201a8"
             ],
             [
              0.3333333333333333,
              "#9c179e"
             ],
             [
              0.4444444444444444,
              "#bd3786"
             ],
             [
              0.5555555555555556,
              "#d8576b"
             ],
             [
              0.6666666666666666,
              "#ed7953"
             ],
             [
              0.7777777777777778,
              "#fb9f3a"
             ],
             [
              0.8888888888888888,
              "#fdca26"
             ],
             [
              1,
              "#f0f921"
             ]
            ],
            "type": "histogram2d"
           }
          ],
          "histogram2dcontour": [
           {
            "colorbar": {
             "outlinewidth": 0,
             "ticks": ""
            },
            "colorscale": [
             [
              0,
              "#0d0887"
             ],
             [
              0.1111111111111111,
              "#46039f"
             ],
             [
              0.2222222222222222,
              "#7201a8"
             ],
             [
              0.3333333333333333,
              "#9c179e"
             ],
             [
              0.4444444444444444,
              "#bd3786"
             ],
             [
              0.5555555555555556,
              "#d8576b"
             ],
             [
              0.6666666666666666,
              "#ed7953"
             ],
             [
              0.7777777777777778,
              "#fb9f3a"
             ],
             [
              0.8888888888888888,
              "#fdca26"
             ],
             [
              1,
              "#f0f921"
             ]
            ],
            "type": "histogram2dcontour"
           }
          ],
          "mesh3d": [
           {
            "colorbar": {
             "outlinewidth": 0,
             "ticks": ""
            },
            "type": "mesh3d"
           }
          ],
          "parcoords": [
           {
            "line": {
             "colorbar": {
              "outlinewidth": 0,
              "ticks": ""
             }
            },
            "type": "parcoords"
           }
          ],
          "pie": [
           {
            "automargin": true,
            "type": "pie"
           }
          ],
          "scatter": [
           {
            "marker": {
             "colorbar": {
              "outlinewidth": 0,
              "ticks": ""
             }
            },
            "type": "scatter"
           }
          ],
          "scatter3d": [
           {
            "line": {
             "colorbar": {
              "outlinewidth": 0,
              "ticks": ""
             }
            },
            "marker": {
             "colorbar": {
              "outlinewidth": 0,
              "ticks": ""
             }
            },
            "type": "scatter3d"
           }
          ],
          "scattercarpet": [
           {
            "marker": {
             "colorbar": {
              "outlinewidth": 0,
              "ticks": ""
             }
            },
            "type": "scattercarpet"
           }
          ],
          "scattergeo": [
           {
            "marker": {
             "colorbar": {
              "outlinewidth": 0,
              "ticks": ""
             }
            },
            "type": "scattergeo"
           }
          ],
          "scattergl": [
           {
            "marker": {
             "colorbar": {
              "outlinewidth": 0,
              "ticks": ""
             }
            },
            "type": "scattergl"
           }
          ],
          "scattermapbox": [
           {
            "marker": {
             "colorbar": {
              "outlinewidth": 0,
              "ticks": ""
             }
            },
            "type": "scattermapbox"
           }
          ],
          "scatterpolar": [
           {
            "marker": {
             "colorbar": {
              "outlinewidth": 0,
              "ticks": ""
             }
            },
            "type": "scatterpolar"
           }
          ],
          "scatterpolargl": [
           {
            "marker": {
             "colorbar": {
              "outlinewidth": 0,
              "ticks": ""
             }
            },
            "type": "scatterpolargl"
           }
          ],
          "scatterternary": [
           {
            "marker": {
             "colorbar": {
              "outlinewidth": 0,
              "ticks": ""
             }
            },
            "type": "scatterternary"
           }
          ],
          "surface": [
           {
            "colorbar": {
             "outlinewidth": 0,
             "ticks": ""
            },
            "colorscale": [
             [
              0,
              "#0d0887"
             ],
             [
              0.1111111111111111,
              "#46039f"
             ],
             [
              0.2222222222222222,
              "#7201a8"
             ],
             [
              0.3333333333333333,
              "#9c179e"
             ],
             [
              0.4444444444444444,
              "#bd3786"
             ],
             [
              0.5555555555555556,
              "#d8576b"
             ],
             [
              0.6666666666666666,
              "#ed7953"
             ],
             [
              0.7777777777777778,
              "#fb9f3a"
             ],
             [
              0.8888888888888888,
              "#fdca26"
             ],
             [
              1,
              "#f0f921"
             ]
            ],
            "type": "surface"
           }
          ],
          "table": [
           {
            "cells": {
             "fill": {
              "color": "#EBF0F8"
             },
             "line": {
              "color": "white"
             }
            },
            "header": {
             "fill": {
              "color": "#C8D4E3"
             },
             "line": {
              "color": "white"
             }
            },
            "type": "table"
           }
          ]
         },
         "layout": {
          "annotationdefaults": {
           "arrowcolor": "#2a3f5f",
           "arrowhead": 0,
           "arrowwidth": 1
          },
          "coloraxis": {
           "colorbar": {
            "outlinewidth": 0,
            "ticks": ""
           }
          },
          "colorscale": {
           "diverging": [
            [
             0,
             "#8e0152"
            ],
            [
             0.1,
             "#c51b7d"
            ],
            [
             0.2,
             "#de77ae"
            ],
            [
             0.3,
             "#f1b6da"
            ],
            [
             0.4,
             "#fde0ef"
            ],
            [
             0.5,
             "#f7f7f7"
            ],
            [
             0.6,
             "#e6f5d0"
            ],
            [
             0.7,
             "#b8e186"
            ],
            [
             0.8,
             "#7fbc41"
            ],
            [
             0.9,
             "#4d9221"
            ],
            [
             1,
             "#276419"
            ]
           ],
           "sequential": [
            [
             0,
             "#0d0887"
            ],
            [
             0.1111111111111111,
             "#46039f"
            ],
            [
             0.2222222222222222,
             "#7201a8"
            ],
            [
             0.3333333333333333,
             "#9c179e"
            ],
            [
             0.4444444444444444,
             "#bd3786"
            ],
            [
             0.5555555555555556,
             "#d8576b"
            ],
            [
             0.6666666666666666,
             "#ed7953"
            ],
            [
             0.7777777777777778,
             "#fb9f3a"
            ],
            [
             0.8888888888888888,
             "#fdca26"
            ],
            [
             1,
             "#f0f921"
            ]
           ],
           "sequentialminus": [
            [
             0,
             "#0d0887"
            ],
            [
             0.1111111111111111,
             "#46039f"
            ],
            [
             0.2222222222222222,
             "#7201a8"
            ],
            [
             0.3333333333333333,
             "#9c179e"
            ],
            [
             0.4444444444444444,
             "#bd3786"
            ],
            [
             0.5555555555555556,
             "#d8576b"
            ],
            [
             0.6666666666666666,
             "#ed7953"
            ],
            [
             0.7777777777777778,
             "#fb9f3a"
            ],
            [
             0.8888888888888888,
             "#fdca26"
            ],
            [
             1,
             "#f0f921"
            ]
           ]
          },
          "colorway": [
           "#636efa",
           "#EF553B",
           "#00cc96",
           "#ab63fa",
           "#FFA15A",
           "#19d3f3",
           "#FF6692",
           "#B6E880",
           "#FF97FF",
           "#FECB52"
          ],
          "font": {
           "color": "#2a3f5f"
          },
          "geo": {
           "bgcolor": "white",
           "lakecolor": "white",
           "landcolor": "#E5ECF6",
           "showlakes": true,
           "showland": true,
           "subunitcolor": "white"
          },
          "hoverlabel": {
           "align": "left"
          },
          "hovermode": "closest",
          "mapbox": {
           "style": "light"
          },
          "paper_bgcolor": "white",
          "plot_bgcolor": "#E5ECF6",
          "polar": {
           "angularaxis": {
            "gridcolor": "white",
            "linecolor": "white",
            "ticks": ""
           },
           "bgcolor": "#E5ECF6",
           "radialaxis": {
            "gridcolor": "white",
            "linecolor": "white",
            "ticks": ""
           }
          },
          "scene": {
           "xaxis": {
            "backgroundcolor": "#E5ECF6",
            "gridcolor": "white",
            "gridwidth": 2,
            "linecolor": "white",
            "showbackground": true,
            "ticks": "",
            "zerolinecolor": "white"
           },
           "yaxis": {
            "backgroundcolor": "#E5ECF6",
            "gridcolor": "white",
            "gridwidth": 2,
            "linecolor": "white",
            "showbackground": true,
            "ticks": "",
            "zerolinecolor": "white"
           },
           "zaxis": {
            "backgroundcolor": "#E5ECF6",
            "gridcolor": "white",
            "gridwidth": 2,
            "linecolor": "white",
            "showbackground": true,
            "ticks": "",
            "zerolinecolor": "white"
           }
          },
          "shapedefaults": {
           "line": {
            "color": "#2a3f5f"
           }
          },
          "ternary": {
           "aaxis": {
            "gridcolor": "white",
            "linecolor": "white",
            "ticks": ""
           },
           "baxis": {
            "gridcolor": "white",
            "linecolor": "white",
            "ticks": ""
           },
           "bgcolor": "#E5ECF6",
           "caxis": {
            "gridcolor": "white",
            "linecolor": "white",
            "ticks": ""
           }
          },
          "title": {
           "x": 0.05
          },
          "xaxis": {
           "automargin": true,
           "gridcolor": "white",
           "linecolor": "white",
           "ticks": "",
           "title": {
            "standoff": 15
           },
           "zerolinecolor": "white",
           "zerolinewidth": 2
          },
          "yaxis": {
           "automargin": true,
           "gridcolor": "white",
           "linecolor": "white",
           "ticks": "",
           "title": {
            "standoff": 15
           },
           "zerolinecolor": "white",
           "zerolinewidth": 2
          }
         }
        },
        "title": {
         "text": "Comparison Between The Two Songs"
        }
       }
      },
      "text/html": [
       "<div>\n",
       "        \n",
       "        \n",
       "            <div id=\"3a79397a-4a8e-466f-9b57-7824dfc23902\" class=\"plotly-graph-div\" style=\"height:525px; width:100%;\"></div>\n",
       "            <script type=\"text/javascript\">\n",
       "                require([\"plotly\"], function(Plotly) {\n",
       "                    window.PLOTLYENV=window.PLOTLYENV || {};\n",
       "                    \n",
       "                if (document.getElementById(\"3a79397a-4a8e-466f-9b57-7824dfc23902\")) {\n",
       "                    Plotly.newPlot(\n",
       "                        '3a79397a-4a8e-466f-9b57-7824dfc23902',\n",
       "                        [{\"name\": \"Total number of words in song\", \"type\": \"bar\", \"x\": [\"Dance Monkey\", \"Never Seen The Rain\"], \"y\": [453, 274]}, {\"name\": \"Total Number of Repeated Words\", \"type\": \"bar\", \"x\": [\"Dance Monkey\", \"Never Seen The Rain\"], \"y\": [430, 255]}, {\"name\": \"Number of words used in Lyric\", \"type\": \"bar\", \"x\": [\"Dance Monkey\", \"Never Seen The Rain\"], \"y\": [72, 63]}, {\"name\": \"Words used once\", \"type\": \"bar\", \"x\": [\"Dance Monkey\", \"Never Seen The Rain\"], \"y\": [23, 19]}, {\"name\": \"Words used more than once\", \"type\": \"bar\", \"x\": [\"Dance Monkey\", \"Never Seen The Rain\"], \"y\": [49, 44]}],\n",
       "                        {\"barmode\": \"group\", \"template\": {\"data\": {\"bar\": [{\"error_x\": {\"color\": \"#2a3f5f\"}, \"error_y\": {\"color\": \"#2a3f5f\"}, \"marker\": {\"line\": {\"color\": \"#E5ECF6\", \"width\": 0.5}}, \"type\": \"bar\"}], \"barpolar\": [{\"marker\": {\"line\": {\"color\": \"#E5ECF6\", \"width\": 0.5}}, \"type\": \"barpolar\"}], \"carpet\": [{\"aaxis\": {\"endlinecolor\": \"#2a3f5f\", \"gridcolor\": \"white\", \"linecolor\": \"white\", \"minorgridcolor\": \"white\", \"startlinecolor\": \"#2a3f5f\"}, \"baxis\": {\"endlinecolor\": \"#2a3f5f\", \"gridcolor\": \"white\", \"linecolor\": \"white\", \"minorgridcolor\": \"white\", \"startlinecolor\": \"#2a3f5f\"}, \"type\": \"carpet\"}], \"choropleth\": [{\"colorbar\": {\"outlinewidth\": 0, \"ticks\": \"\"}, \"type\": \"choropleth\"}], \"contour\": [{\"colorbar\": {\"outlinewidth\": 0, \"ticks\": \"\"}, \"colorscale\": [[0.0, \"#0d0887\"], [0.1111111111111111, \"#46039f\"], [0.2222222222222222, \"#7201a8\"], [0.3333333333333333, \"#9c179e\"], [0.4444444444444444, \"#bd3786\"], [0.5555555555555556, \"#d8576b\"], [0.6666666666666666, \"#ed7953\"], [0.7777777777777778, \"#fb9f3a\"], [0.8888888888888888, \"#fdca26\"], [1.0, \"#f0f921\"]], \"type\": \"contour\"}], \"contourcarpet\": [{\"colorbar\": {\"outlinewidth\": 0, \"ticks\": \"\"}, \"type\": \"contourcarpet\"}], \"heatmap\": [{\"colorbar\": {\"outlinewidth\": 0, \"ticks\": \"\"}, \"colorscale\": [[0.0, \"#0d0887\"], [0.1111111111111111, \"#46039f\"], [0.2222222222222222, \"#7201a8\"], [0.3333333333333333, \"#9c179e\"], [0.4444444444444444, \"#bd3786\"], [0.5555555555555556, \"#d8576b\"], [0.6666666666666666, \"#ed7953\"], [0.7777777777777778, \"#fb9f3a\"], [0.8888888888888888, \"#fdca26\"], [1.0, \"#f0f921\"]], \"type\": \"heatmap\"}], \"heatmapgl\": [{\"colorbar\": {\"outlinewidth\": 0, \"ticks\": \"\"}, \"colorscale\": [[0.0, \"#0d0887\"], [0.1111111111111111, \"#46039f\"], [0.2222222222222222, \"#7201a8\"], [0.3333333333333333, \"#9c179e\"], [0.4444444444444444, \"#bd3786\"], [0.5555555555555556, \"#d8576b\"], [0.6666666666666666, \"#ed7953\"], [0.7777777777777778, \"#fb9f3a\"], [0.8888888888888888, \"#fdca26\"], [1.0, \"#f0f921\"]], \"type\": \"heatmapgl\"}], \"histogram\": [{\"marker\": {\"colorbar\": {\"outlinewidth\": 0, \"ticks\": \"\"}}, \"type\": \"histogram\"}], \"histogram2d\": [{\"colorbar\": {\"outlinewidth\": 0, \"ticks\": \"\"}, \"colorscale\": [[0.0, \"#0d0887\"], [0.1111111111111111, \"#46039f\"], [0.2222222222222222, \"#7201a8\"], [0.3333333333333333, \"#9c179e\"], [0.4444444444444444, \"#bd3786\"], [0.5555555555555556, \"#d8576b\"], [0.6666666666666666, \"#ed7953\"], [0.7777777777777778, \"#fb9f3a\"], [0.8888888888888888, \"#fdca26\"], [1.0, \"#f0f921\"]], \"type\": \"histogram2d\"}], \"histogram2dcontour\": [{\"colorbar\": {\"outlinewidth\": 0, \"ticks\": \"\"}, \"colorscale\": [[0.0, \"#0d0887\"], [0.1111111111111111, \"#46039f\"], [0.2222222222222222, \"#7201a8\"], [0.3333333333333333, \"#9c179e\"], [0.4444444444444444, \"#bd3786\"], [0.5555555555555556, \"#d8576b\"], [0.6666666666666666, \"#ed7953\"], [0.7777777777777778, \"#fb9f3a\"], [0.8888888888888888, \"#fdca26\"], [1.0, \"#f0f921\"]], \"type\": \"histogram2dcontour\"}], \"mesh3d\": [{\"colorbar\": {\"outlinewidth\": 0, \"ticks\": \"\"}, \"type\": \"mesh3d\"}], \"parcoords\": [{\"line\": {\"colorbar\": {\"outlinewidth\": 0, \"ticks\": \"\"}}, \"type\": \"parcoords\"}], \"pie\": [{\"automargin\": true, \"type\": \"pie\"}], \"scatter\": [{\"marker\": {\"colorbar\": {\"outlinewidth\": 0, \"ticks\": \"\"}}, \"type\": \"scatter\"}], \"scatter3d\": [{\"line\": {\"colorbar\": {\"outlinewidth\": 0, \"ticks\": \"\"}}, \"marker\": {\"colorbar\": {\"outlinewidth\": 0, \"ticks\": \"\"}}, \"type\": \"scatter3d\"}], \"scattercarpet\": [{\"marker\": {\"colorbar\": {\"outlinewidth\": 0, \"ticks\": \"\"}}, \"type\": \"scattercarpet\"}], \"scattergeo\": [{\"marker\": {\"colorbar\": {\"outlinewidth\": 0, \"ticks\": \"\"}}, \"type\": \"scattergeo\"}], \"scattergl\": [{\"marker\": {\"colorbar\": {\"outlinewidth\": 0, \"ticks\": \"\"}}, \"type\": \"scattergl\"}], \"scattermapbox\": [{\"marker\": {\"colorbar\": {\"outlinewidth\": 0, \"ticks\": \"\"}}, \"type\": \"scattermapbox\"}], \"scatterpolar\": [{\"marker\": {\"colorbar\": {\"outlinewidth\": 0, \"ticks\": \"\"}}, \"type\": \"scatterpolar\"}], \"scatterpolargl\": [{\"marker\": {\"colorbar\": {\"outlinewidth\": 0, \"ticks\": \"\"}}, \"type\": \"scatterpolargl\"}], \"scatterternary\": [{\"marker\": {\"colorbar\": {\"outlinewidth\": 0, \"ticks\": \"\"}}, \"type\": \"scatterternary\"}], \"surface\": [{\"colorbar\": {\"outlinewidth\": 0, \"ticks\": \"\"}, \"colorscale\": [[0.0, \"#0d0887\"], [0.1111111111111111, \"#46039f\"], [0.2222222222222222, \"#7201a8\"], [0.3333333333333333, \"#9c179e\"], [0.4444444444444444, \"#bd3786\"], [0.5555555555555556, \"#d8576b\"], [0.6666666666666666, \"#ed7953\"], [0.7777777777777778, \"#fb9f3a\"], [0.8888888888888888, \"#fdca26\"], [1.0, \"#f0f921\"]], \"type\": \"surface\"}], \"table\": [{\"cells\": {\"fill\": {\"color\": \"#EBF0F8\"}, \"line\": {\"color\": \"white\"}}, \"header\": {\"fill\": {\"color\": \"#C8D4E3\"}, \"line\": {\"color\": \"white\"}}, \"type\": \"table\"}]}, \"layout\": {\"annotationdefaults\": {\"arrowcolor\": \"#2a3f5f\", \"arrowhead\": 0, \"arrowwidth\": 1}, \"coloraxis\": {\"colorbar\": {\"outlinewidth\": 0, \"ticks\": \"\"}}, \"colorscale\": {\"diverging\": [[0, \"#8e0152\"], [0.1, \"#c51b7d\"], [0.2, \"#de77ae\"], [0.3, \"#f1b6da\"], [0.4, \"#fde0ef\"], [0.5, \"#f7f7f7\"], [0.6, \"#e6f5d0\"], [0.7, \"#b8e186\"], [0.8, \"#7fbc41\"], [0.9, \"#4d9221\"], [1, \"#276419\"]], \"sequential\": [[0.0, \"#0d0887\"], [0.1111111111111111, \"#46039f\"], [0.2222222222222222, \"#7201a8\"], [0.3333333333333333, \"#9c179e\"], [0.4444444444444444, \"#bd3786\"], [0.5555555555555556, \"#d8576b\"], [0.6666666666666666, \"#ed7953\"], [0.7777777777777778, \"#fb9f3a\"], [0.8888888888888888, \"#fdca26\"], [1.0, \"#f0f921\"]], \"sequentialminus\": [[0.0, \"#0d0887\"], [0.1111111111111111, \"#46039f\"], [0.2222222222222222, \"#7201a8\"], [0.3333333333333333, \"#9c179e\"], [0.4444444444444444, \"#bd3786\"], [0.5555555555555556, \"#d8576b\"], [0.6666666666666666, \"#ed7953\"], [0.7777777777777778, \"#fb9f3a\"], [0.8888888888888888, \"#fdca26\"], [1.0, \"#f0f921\"]]}, \"colorway\": [\"#636efa\", \"#EF553B\", \"#00cc96\", \"#ab63fa\", \"#FFA15A\", \"#19d3f3\", \"#FF6692\", \"#B6E880\", \"#FF97FF\", \"#FECB52\"], \"font\": {\"color\": \"#2a3f5f\"}, \"geo\": {\"bgcolor\": \"white\", \"lakecolor\": \"white\", \"landcolor\": \"#E5ECF6\", \"showlakes\": true, \"showland\": true, \"subunitcolor\": \"white\"}, \"hoverlabel\": {\"align\": \"left\"}, \"hovermode\": \"closest\", \"mapbox\": {\"style\": \"light\"}, \"paper_bgcolor\": \"white\", \"plot_bgcolor\": \"#E5ECF6\", \"polar\": {\"angularaxis\": {\"gridcolor\": \"white\", \"linecolor\": \"white\", \"ticks\": \"\"}, \"bgcolor\": \"#E5ECF6\", \"radialaxis\": {\"gridcolor\": \"white\", \"linecolor\": \"white\", \"ticks\": \"\"}}, \"scene\": {\"xaxis\": {\"backgroundcolor\": \"#E5ECF6\", \"gridcolor\": \"white\", \"gridwidth\": 2, \"linecolor\": \"white\", \"showbackground\": true, \"ticks\": \"\", \"zerolinecolor\": \"white\"}, \"yaxis\": {\"backgroundcolor\": \"#E5ECF6\", \"gridcolor\": \"white\", \"gridwidth\": 2, \"linecolor\": \"white\", \"showbackground\": true, \"ticks\": \"\", \"zerolinecolor\": \"white\"}, \"zaxis\": {\"backgroundcolor\": \"#E5ECF6\", \"gridcolor\": \"white\", \"gridwidth\": 2, \"linecolor\": \"white\", \"showbackground\": true, \"ticks\": \"\", \"zerolinecolor\": \"white\"}}, \"shapedefaults\": {\"line\": {\"color\": \"#2a3f5f\"}}, \"ternary\": {\"aaxis\": {\"gridcolor\": \"white\", \"linecolor\": \"white\", \"ticks\": \"\"}, \"baxis\": {\"gridcolor\": \"white\", \"linecolor\": \"white\", \"ticks\": \"\"}, \"bgcolor\": \"#E5ECF6\", \"caxis\": {\"gridcolor\": \"white\", \"linecolor\": \"white\", \"ticks\": \"\"}}, \"title\": {\"x\": 0.05}, \"xaxis\": {\"automargin\": true, \"gridcolor\": \"white\", \"linecolor\": \"white\", \"ticks\": \"\", \"title\": {\"standoff\": 15}, \"zerolinecolor\": \"white\", \"zerolinewidth\": 2}, \"yaxis\": {\"automargin\": true, \"gridcolor\": \"white\", \"linecolor\": \"white\", \"ticks\": \"\", \"title\": {\"standoff\": 15}, \"zerolinecolor\": \"white\", \"zerolinewidth\": 2}}}, \"title\": {\"text\": \"Comparison Between The Two Songs\"}},\n",
       "                        {\"responsive\": true}\n",
       "                    ).then(function(){\n",
       "                            \n",
       "var gd = document.getElementById('3a79397a-4a8e-466f-9b57-7824dfc23902');\n",
       "var x = new MutationObserver(function (mutations, observer) {{\n",
       "        var display = window.getComputedStyle(gd).display;\n",
       "        if (!display || display === 'none') {{\n",
       "            console.log([gd, 'removed!']);\n",
       "            Plotly.purge(gd);\n",
       "            observer.disconnect();\n",
       "        }}\n",
       "}});\n",
       "\n",
       "// Listen for the removal of the full notebook cells\n",
       "var notebookContainer = gd.closest('#notebook-container');\n",
       "if (notebookContainer) {{\n",
       "    x.observe(notebookContainer, {childList: true});\n",
       "}}\n",
       "\n",
       "// Listen for the clearing of the current output cell\n",
       "var outputEl = gd.closest('.output');\n",
       "if (outputEl) {{\n",
       "    x.observe(outputEl, {childList: true});\n",
       "}}\n",
       "\n",
       "                        })\n",
       "                };\n",
       "                });\n",
       "            </script>\n",
       "        </div>"
      ]
     },
     "metadata": {},
     "output_type": "display_data"
    }
   ],
   "source": [
    "x = table.Name\n",
    "y1 = table.words_in_song\n",
    "y2 = table.words_in_lyrics\n",
    "y3 = table.Words_used_once\n",
    "y4 = table.Words_used_more_than_once\n",
    "y5 = table.Number_of_times_words_repeated\n",
    "\n",
    "fig = go.Figure(data=[\n",
    "    go.Bar(name='Total number of words in song', x=x, y=y1),\n",
    "    go.Bar(name='Total Number of Repeated Words', x=x, y=y5),\n",
    "    go.Bar(name='Number of words used in Lyric', x=x, y=y2),\n",
    "    go.Bar(name='Words used once', x=x, y=y3),\n",
    "    go.Bar(name='Words used more than once', x=x, y=y4)\n",
    "    ])\n",
    "#Change the bar mode\n",
    "fig.update_layout(barmode='group', title =\"Comparison Between The Two Songs\")\n",
    "fig.show()\n",
    "\n"
   ]
  },
  {
   "cell_type": "code",
   "execution_count": null,
   "metadata": {},
   "outputs": [],
   "source": []
  }
 ],
 "metadata": {
  "kernelspec": {
   "display_name": "Python 3",
   "language": "python",
   "name": "python3"
  },
  "language_info": {
   "codemirror_mode": {
    "name": "ipython",
    "version": 3
   },
   "file_extension": ".py",
   "mimetype": "text/x-python",
   "name": "python",
   "nbconvert_exporter": "python",
   "pygments_lexer": "ipython3",
   "version": "3.7.6"
  }
 },
 "nbformat": 4,
 "nbformat_minor": 4
}
